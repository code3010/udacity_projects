{
 "cells": [
  {
   "cell_type": "markdown",
   "metadata": {},
   "source": [
    "\n",
    "\n",
    "# Project: Test a Perceptual Phenomenon (Stroop Data)\n",
    "\n",
    "## Table of Contents\n",
    "- [Overview of the dataset](#overview)\n",
    "- [Independent and Dependent variable](#question1)\n",
    "- [Hypotheses for this task](#question2)\n",
    "- [Statistical test to perform and its justifications](#question3)\n",
    "- [Descriptive statistics for the dataset](#question4)\n",
    "- [Visualizations for the dataset](#question5)\n",
    "- [Statistical test for checking the hypothesis](#question6)\n",
    "- [Hypothesis for the said effect and any related experiments](#question7)\n",
    "- [References](#references)\n",
    "\n"
   ]
  },
  {
   "cell_type": "markdown",
   "metadata": {},
   "source": [
    "<a id='overview'></a>\n",
    "### Overview of the dataset"
   ]
  },
  {
   "cell_type": "code",
   "execution_count": 1,
   "metadata": {
    "collapsed": true
   },
   "outputs": [],
   "source": [
    "import pandas as pd\n",
    "import numpy as np\n",
    "import matplotlib.pyplot as plt\n",
    "import seaborn as sns\n",
    "%matplotlib inline"
   ]
  },
  {
   "cell_type": "code",
   "execution_count": 2,
   "metadata": {
    "collapsed": true
   },
   "outputs": [],
   "source": [
    "df = pd.read_csv('./stroopdata.csv')"
   ]
  },
  {
   "cell_type": "code",
   "execution_count": 3,
   "metadata": {},
   "outputs": [
    {
     "name": "stdout",
     "output_type": "stream",
     "text": [
      "    Congruent  Incongruent\n",
      "0      12.079       19.278\n",
      "1      16.791       18.741\n",
      "2       9.564       21.214\n",
      "3       8.630       15.687\n",
      "4      14.669       22.803\n",
      "5      12.238       20.878\n",
      "6      14.692       24.572\n",
      "7       8.987       17.394\n",
      "8       9.401       20.762\n",
      "9      14.480       26.282\n",
      "10     22.328       24.524\n",
      "11     15.298       18.644\n",
      "12     15.073       17.510\n",
      "13     16.929       20.330\n",
      "14     18.200       35.255\n",
      "15     12.130       22.158\n",
      "16     18.495       25.139\n",
      "17     10.639       20.429\n",
      "18     11.344       17.425\n",
      "19     12.369       34.288\n",
      "20     12.944       23.894\n",
      "21     14.233       17.960\n",
      "22     19.710       22.058\n",
      "23     16.004       21.157\n"
     ]
    }
   ],
   "source": [
    "print(df)"
   ]
  },
  {
   "cell_type": "markdown",
   "metadata": {},
   "source": [
    "<a id='question1'></a>\n",
    "### Independent and dependent variable"
   ]
  },
  {
   "cell_type": "markdown",
   "metadata": {},
   "source": [
    "> The **independent variable** is the congruency conditions i.e congruent or incongruent. Congruent for this dataset means that color correspond to their name as shown on the screen.\n",
    "\n",
    "> The **dependent variable** is the time taken to complete the naming of the colors both for congruent and incongruent condition."
   ]
  },
  {
   "cell_type": "markdown",
   "metadata": {},
   "source": [
    "<a id='question2'></a>\n",
    "### Hypotheses for this task?"
   ]
  },
  {
   "cell_type": "markdown",
   "metadata": {},
   "source": [
    "> **Null hypothesis (H$_{0}$)** for this dataset is that, there is no change in mean reading times for both congruent and incongruent cases.\n",
    "\n",
    "> **Alternative hypothesis (H$_{1}$)** for this dataset is that, there is a difference between the time used to recognize colors under congruent words condition and incongruent words condition, proving the existince of Stroop Effect.\n",
    "\n",
    "> Let's assume that the population parameter for mean of congruent reading times is: $\\mu_{C}$\n",
    "\n",
    "> Also,let's assume that the population parameter for mean of incongruent reading times is: $\\mu_{I}$\n",
    "\n",
    "> So, **H$_{0}$**$\\rightarrow$  $\\mu_{D}$ = 0 where $\\mu_{D}$ = $\\mu_{C}$ - $\\mu_{I}$ and,\n",
    "\n",
    ">**H$_{1}$**$\\rightarrow$  $\\mu_{D}$ $\\neq$ 0\n"
   ]
  },
  {
   "cell_type": "markdown",
   "metadata": {},
   "source": [
    "<a id='question3'></a>\n",
    "### Statistical test to perform and its justifications"
   ]
  },
  {
   "cell_type": "markdown",
   "metadata": {},
   "source": [
    "> The data is from a sample of population whose population parameters (mean, standard deviation) are not known to us. Thus, to infer about the population we will use t-test. Also, these tests have been performed on the same set of people for two different conditions. Hence, we will perform a **dependent t-test for paired samples**.\n",
    "\n",
    "> Assumption for a dependent t-test for paired samples are as follows:\n",
    ">> 1. Dependent variable should be measured on a continuous scale\n",
    ">> 2. Independent variable should consist of two categorical, \"related groups\" or \"matched pairs\". \"Related groups\" indicates that the same subjects are present in both groups.\n",
    ">> 3. There should be no significant outliers in the differences between the two related groups.\n",
    ">> 4. The distribution of the differences in the dependent variable between the two related groups should be approximately normally distributed.\n",
    ">> 5. Both the sample size should be equal\n",
    "\n"
   ]
  },
  {
   "cell_type": "markdown",
   "metadata": {},
   "source": [
    "<a id='question4'></a>\n",
    "### Descriptive statistics for the dataset"
   ]
  },
  {
   "cell_type": "code",
   "execution_count": 4,
   "metadata": {},
   "outputs": [
    {
     "name": "stdout",
     "output_type": "stream",
     "text": [
      "Mean of Congruent reading times is: 14.0511 s\n",
      "Mean of Incongruent reading times is: 22.0159 s\n"
     ]
    }
   ],
   "source": [
    "print (\"Mean of Congruent reading times is: {:.4f} s\".format(df.Congruent.mean()))\n",
    "print (\"Mean of Incongruent reading times is: {:.4f} s\".format(df.Incongruent.mean()))"
   ]
  },
  {
   "cell_type": "code",
   "execution_count": 5,
   "metadata": {},
   "outputs": [
    {
     "name": "stdout",
     "output_type": "stream",
     "text": [
      "Median of Congruent reading times is: 14.3565 s\n",
      "Median of Incongruent reading times is: 21.0175 s\n"
     ]
    }
   ],
   "source": [
    "print (\"Median of Congruent reading times is: {:.4f} s\".format(df.Congruent.median()))\n",
    "print (\"Median of Incongruent reading times is: {:.4f} s\".format(df.Incongruent.median()))"
   ]
  },
  {
   "cell_type": "code",
   "execution_count": 6,
   "metadata": {},
   "outputs": [
    {
     "name": "stdout",
     "output_type": "stream",
     "text": [
      "Standard deviaion of Congruent reading times is: 3.5594 s\n",
      "Standard deviaion of Incongruent reading times is: 4.7971 s\n"
     ]
    }
   ],
   "source": [
    "print (\"Standard deviaion of Congruent reading times is: {:.4f} s\".format(df.Congruent.std()))\n",
    "print (\"Standard deviaion of Incongruent reading times is: {:.4f} s\".format(df.Incongruent.std()))"
   ]
  },
  {
   "cell_type": "markdown",
   "metadata": {},
   "source": [
    "<a id='question5'></a>\n",
    "### Visualizations for the dataset"
   ]
  },
  {
   "cell_type": "code",
   "execution_count": 46,
   "metadata": {},
   "outputs": [
    {
     "data": {
      "image/png": "[encoded data removed]",
      "text/plain": [
       "<matplotlib.figure.Figure at 0x1af7b58a630>"
      ]
     },
     "metadata": {},
     "output_type": "display_data"
    }
   ],
   "source": [
    "# Cut the window in 3 parts\n",
    "f, (ax_box, ay_box, ax_hist) = plt.subplots(3, sharex=True,gridspec_kw={\"height_ratios\": [20,20,60]})\n",
    " \n",
    "# Add a graph in each part\n",
    "sns.boxplot(df[\"Congruent\"], ax=ax_box,)\n",
    "sns.boxplot(df[\"Incongruent\"], ax=ay_box)\n",
    "sns.distplot(df[\"Congruent\"], kde=False, ax=ax_hist, label=\"Congruent\")\n",
    "sns.distplot(df[\"Incongruent\"], kde=False, ax=ax_hist,axlabel=\"Reading times in sec\", label=\"Incongruent\")\n",
    " \n",
    "# Labels and legend for the plot\n",
    "ax_box.set(xlabel='Congruent')\n",
    "ay_box.set(xlabel='Incongruent')\n",
    "ax_hist.legend(loc=\"upper right\");"
   ]
  },
  {
   "cell_type": "markdown",
   "metadata": {},
   "source": [
    "> The plot reveals that:-\n",
    ">> 1.) The median reading time of incongurent data is more than congruent data.\n",
    "\n",
    ">> 2.) The range of incongruent data is more than that of congruent data.\n",
    "\n",
    ">> 3.) Both the Congruent and Incongruent data appears to be approximately normally distributed. Also, the incongruent data is seen to have some outliers"
   ]
  },
  {
   "cell_type": "markdown",
   "metadata": {
    "collapsed": true
   },
   "source": [
    "<a id='question6'></a>\n",
    "### Statistical test for checking the hypothesis"
   ]
  },
  {
   "cell_type": "markdown",
   "metadata": {},
   "source": [
    "> Since our null hypothesis is **H$_{0}$**$\\rightarrow$  $\\mu_{D}$ = 0 where $\\mu_{D}$ = $\\mu_{C}$ - $\\mu_{I}$ and, alternate hypothesis is **H$_{1}$**$\\rightarrow$  $\\mu_{D}$ $\\neq$ 0, we will perform a two tailed t-test.\n",
    "> Taking an $\\alpha$ level of **0.05**, we get the critical value for two tailed t-statistic for a degree of freedom of 23, equal to **+/-2.069**."
   ]
  },
  {
   "cell_type": "markdown",
   "metadata": {},
   "source": [
    "#### Calculating the t-satistics for the stroop data sample"
   ]
  },
  {
   "cell_type": "code",
   "execution_count": 77,
   "metadata": {
    "collapsed": true
   },
   "outputs": [],
   "source": [
    "diff = df['Congruent']-df['Incongruent']\n",
    "mean_of_diff = diff.mean()"
   ]
  },
  {
   "cell_type": "code",
   "execution_count": 54,
   "metadata": {
    "collapsed": true
   },
   "outputs": [],
   "source": [
    "dev_from_mean = diff-mean_of_diff"
   ]
  },
  {
   "cell_type": "code",
   "execution_count": 57,
   "metadata": {
    "collapsed": true
   },
   "outputs": [],
   "source": [
    "squared_dev_mean = (dev_from_mean)**2"
   ]
  },
  {
   "cell_type": "code",
   "execution_count": 60,
   "metadata": {
    "collapsed": true
   },
   "outputs": [],
   "source": [
    "sum_squared_dev_mean = squared_dev_mean.sum()"
   ]
  },
  {
   "cell_type": "code",
   "execution_count": 61,
   "metadata": {
    "collapsed": true
   },
   "outputs": [],
   "source": [
    "variance = sum_squared_dev_mean/23"
   ]
  },
  {
   "cell_type": "code",
   "execution_count": 74,
   "metadata": {
    "collapsed": true
   },
   "outputs": [],
   "source": [
    "sd = variance**0.5"
   ]
  },
  {
   "cell_type": "markdown",
   "metadata": {},
   "source": [
    "> The t-statistics is given by the formula:\n",
    "$$\\frac{\\mu_{D} - 0}{\\frac{\\sigma}{\\surd n}}$$"
   ]
  },
  {
   "cell_type": "markdown",
   "metadata": {},
   "source": [
    "where $\\sigma$ is the sample standard deviation for dependent sample and $\\surd n$ is the square root of sample size"
   ]
  },
  {
   "cell_type": "code",
   "execution_count": 69,
   "metadata": {
    "collapsed": true
   },
   "outputs": [],
   "source": [
    "# since our sample size is 24, so square root of sample size is calculated below:\n",
    "sample_size_sqrt =24**0.5 "
   ]
  },
  {
   "cell_type": "code",
   "execution_count": 80,
   "metadata": {
    "collapsed": true
   },
   "outputs": [],
   "source": [
    "t_stat_value = mean_of_diff/(sd/sample_size_sqrt)"
   ]
  },
  {
   "cell_type": "code",
   "execution_count": 81,
   "metadata": {},
   "outputs": [
    {
     "data": {
      "text/plain": [
       "-8.020706944109957"
      ]
     },
     "execution_count": 81,
     "metadata": {},
     "output_type": "execute_result"
    }
   ],
   "source": [
    "t_stat_value"
   ]
  },
  {
   "cell_type": "markdown",
   "metadata": {},
   "source": [
    "> As we can see that the calculated **t-satistics value -8.02070 is greater than -2.069**, we can reject the Null hypothesis. Thus it proves that the difference between mean congruence and mean incongruence group time is statistically significant, namely, the stroop effect is present. This is in line with my expectation."
   ]
  },
  {
   "cell_type": "markdown",
   "metadata": {},
   "source": [
    "<a id='question7'></a>\n",
    "###  Hypotheses regarding the reasons for the effect observed are presented. An extension or related experiment to the performed Stroop task is provided, that may produce similar effects."
   ]
  },
  {
   "cell_type": "markdown",
   "metadata": {},
   "source": [
    "> From childhood our brain is conditioned to associated color and words through our education and thus it almost becomes a reflex. I believe the difference between the incongruent and congruent testing time with the incongruent testing time being mostly higher is due to this reflexive action of our brain.\n",
    "\n",
    "> An extension to this color stroop test can be  \"Number Stroop\" Effect Experiment, where the subject is required to count the number of times a word is displayed on screen and not say what the word says.\n"
   ]
  },
  {
   "cell_type": "markdown",
   "metadata": {},
   "source": [
    "<a id='references'></a>\n",
    "###  References"
   ]
  },
  {
   "cell_type": "markdown",
   "metadata": {},
   "source": [
    "> 1. The t-table used in computing the critical value is referred form https://s3.amazonaws.com/udacity-hosted-downloads/t-table.jpg\n",
    "\n",
    "> 2. The assumptions made for the hypothesis is referred from https://statistics.laerd.com/spss-tutorials/dependent-t-test-using-spss-statistics.php\n",
    "\n",
    "> 3. The details of numbered stroop effect is referred https://faculty.washington.edu/chudler/java/readyn.html"
   ]
  },
  {
   "cell_type": "code",
   "execution_count": null,
   "metadata": {
    "collapsed": true
   },
   "outputs": [],
   "source": []
  }
 ],
 "metadata": {
  "kernelspec": {
   "display_name": "Python 3",
   "language": "python",
   "name": "python3"
  },
  "language_info": {
   "codemirror_mode": {
    "name": "ipython",
    "version": 3
   },
   "file_extension": ".py",
   "mimetype": "text/x-python",
   "name": "python",
   "nbconvert_exporter": "python",
   "pygments_lexer": "ipython3",
   "version": "3.6.3"
  }
 },
 "nbformat": 4,
 "nbformat_minor": 2
}
